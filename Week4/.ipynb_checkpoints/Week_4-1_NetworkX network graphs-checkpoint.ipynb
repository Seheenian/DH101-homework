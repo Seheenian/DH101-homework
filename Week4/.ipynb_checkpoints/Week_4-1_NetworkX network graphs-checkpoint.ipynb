{
 "cells": [
  {
   "cell_type": "code",
   "execution_count": 40,
   "metadata": {},
   "outputs": [
    {
     "name": "stdout",
     "output_type": "stream",
     "text": [
      "Collecting networkx==2.3\n",
      "\u001b[?25l  Downloading https://files.pythonhosted.org/packages/85/08/f20aef11d4c343b557e5de6b9548761811eb16e438cee3d32b1c66c8566b/networkx-2.3.zip (1.7MB)\n",
      "\u001b[K     |████████████████████████████████| 1.8MB 9.9MB/s eta 0:00:01\n",
      "\u001b[?25hRequirement already satisfied: decorator>=4.3.0 in /anaconda3/lib/python3.7/site-packages (from networkx==2.3) (4.4.0)\n",
      "Building wheels for collected packages: networkx\n",
      "  Building wheel for networkx (setup.py) ... \u001b[?25ldone\n",
      "\u001b[?25h  Stored in directory: /Users/s2park2018/Library/Caches/pip/wheels/de/63/64/3699be2a9d0ccdb37c7f16329acf3863fd76eda58c39c737af\n",
      "Successfully built networkx\n",
      "Installing collected packages: networkx\n",
      "  Found existing installation: networkx 2.2\n",
      "    Uninstalling networkx-2.2:\n",
      "      Successfully uninstalled networkx-2.2\n",
      "Successfully installed networkx-2.3\n"
     ]
    }
   ],
   "source": [
    "#!pip install networkx==2.3"
   ]
  },
  {
   "cell_type": "code",
   "execution_count": 39,
   "metadata": {},
   "outputs": [],
   "source": [
    "import networkx as nx\n",
    "import nltk\n",
    "import pandas as pd\n",
    "\n",
    "import matplotlib\n",
    "%matplotlib inline\n",
    "import matplotlib.pyplot as plt\n",
    "# plots.style.use('seaborn-colorblind')\n",
    "# plots.style.available"
   ]
  },
  {
   "cell_type": "markdown",
   "metadata": {},
   "source": [
    "# (Social) Network analysis\n",
    "\n",
    "[Social network theory](https://en.wikipedia.org/wiki/Social_network_analysis) emphasizes human social relationships and the many ways they are expressed. [Agent-based models](https://en.wikipedia.org/wiki/Agent-based_model) remind us that relationships between entities are complex, context specific, and might or might not be correlated.  \n",
    "\n",
    "Living entities form highly variable [social adaptive strategies](https://www.tandfonline.com/doi/abs/10.1080/00438243.1993.9980243) relative to their [individual contexts](https://plato.stanford.edu/entries/capability-approach/#CorIde). We are interested in the relationships between nodes, or individuals, groups, institutions, and other entities.  \n",
    "\n",
    "Today's notebook demonstrates how to construct a basic network graph using NetworkX.   "
   ]
  },
  {
   "cell_type": "markdown",
   "metadata": {},
   "source": [
    "# Network graphs\n",
    "\n",
    "Finding relationships in meaning is challenging. Although computers help us find meaning in things (such as large bodies of text), they also present their of sets of challenges: proper choice or tools and methods, efficient coding, and interpretation/presentation of results.  \n",
    "\n",
    "Data visualization techniques called [network graphs](https://en.wikipedia.org/wiki/Graph_theory) conveniently help us illustrate relationships (edges) between the individual actors (nodes). When these graphs explicitly focus on only the individual actors, they can be referred to as a \"social\" network graph.  \n",
    "\n",
    "[**Brughmans**](https://www.jstor.org/stable/43654602?seq=1#page_scan_tab_contents) provides a great introduction to networks that you will want to read.   "
   ]
  },
  {
   "cell_type": "markdown",
   "metadata": {},
   "source": [
    "# What is a network?\n",
    "\n",
    "A network is a way to structure data to illustrate relationships between data points (i.e., rows in a speadsheet) in order to build a model that can be visualized and interacted with for exploratory purposes. \n",
    "\n",
    "[An Erdos-Renyi network randomly assigns](https://www.youtube.com/watch?v=mpe44sTSoF8) connections (edges) between data points (nodes) in iterative fashion until every node in the network is connected. As [the Barbási-Albert model assigns](https://en.wikipedia.org/wiki/Barab%C3%A1si%E2%80%93Albert_model) random edges, clusters begin to form based on some common relationship. "
   ]
  },
  {
   "cell_type": "markdown",
   "metadata": {},
   "source": [
    "# Vocabulary \n",
    "\n",
    "Start by conceptualizing how text data can be stored in a graph. Data are usually stored in two separate files - a node list and an edge list.  \n",
    "\n",
    "Text data are ideal for [data mining](https://en.wikipedia.org/wiki/Data_mining) because of the amount of text data available. Data mining approaches seek to find patterns in otherwise unknown data, such as a journal article or book, newspaper publishing company, or an entire library.  \n",
    "\n",
    "Familiarize yourself with some of the [vocabulary beginning on page 43 of this text](https://www.politaktiv.org/documents/10157/29141/SocNet_TheoryApp.pdf)\n",
    "1. **Node:** a data point\n",
    "    - A row in a spreadsheet  \n",
    "    - A thing in the Internet of Things  \n",
    "    - A webpage on the Internet\n",
    "2. **Node list:** a list of data points, like rows in a spreadsheet  \n",
    "3. **Edge:** the link/relationship between two (or more) nodes based on some common feature(s) shared between the two nodes. Edges can be directed or undirected (lines or vectors) and are always weighted (default = 1)\n",
    "    - Lines = undirected edges\n",
    "    - Vectors = directed edges\n",
    "    - Weight = edge strength between two nodes  \n",
    "4. **Edge list:** a list of the relationships between two nodes (source and target) expressed by their direction and weight.  \n",
    "5. **Attribute:** columns in your spreadsheet; categories of potentially different types of data (strings, floats, integers, logical, etc.) used to filter and visualize the network\n",
    "6. **Component/cluster/clique:** various-sized cluster of nodes that results from shared edges\n",
    "7. **Degree:** the total number of edges extending to or from a node (or, distance between two nodes or the length of the shortest path)\n",
    "8. **Weighted degree:** number of directed edges extending to or from a node  \n",
    "9. **Path:** the distance between two nodes (in terms of the number of edges/degrees). This is also referred to as the [degree of separation](https://en.wikipedia.org/wiki/Six_degrees_of_separation) \n",
    "10. **Undirected graph:** contains undirected edges\n",
    "11. **Directed graph:** contains directed edges\n",
    "12. **Multi-modal network:** a network with multiple types of nodes and edges\n",
    "13. **Clustering coefficient:** the number of edges within a cluster and is a value between 0 and 1. It is calculated as the number of edges in a path between two nodes divided by the maximum possible edges between nodes for the given network. It is zero when it has no edges and approaches 1 as connections increase (max connections = 1)\n",
    "14. **Betweenness:** how much a node lies between others in a network; nodes have higher values the more bridges they build between other nodes\n",
    "15. **Centrality:** how well a node \"connects\" a network \n",
    "16. **Degree centrality:** the number of links a node connects \n",
    "17. **Betweenness centrality:** the number of times a node has the shortest path between other nodes\n",
    "18. **Closeness centrality:** the score for shortness of paths within a network .  \n",
    "\n",
    "The simplest way to talk about networks in the applied sense is to think about the Internet, a massive hierarchy of webpages and information. On the internet, you have sources (hubs of information) and you have ways of calling those hubs (“authority scores”, for example URLs, hyperlinked text, etc.). When you perform a Google search, the top hit would have the highest eigenvector centrality.\n",
    "\n",
    "19. **Eigenvector:** the “leaders” of the network because they are nodes that typically have a small degree but the nodes they are connected to have the highest degree (CEO exmaple; CEO is not connected to the workers which is accomplished through middle management).\n",
    "20. **Eigenvector centrality:** it is connected to pages that are most searched for, giving them the highest \n",
    "\n",
    "Check out [this paper](http://www.mjdenny.com/workshops/SN_Theory_I.pdf) and [this site](https://cambridge-intelligence.com/keylines-faqs-social-network-analysis/) to learn more! "
   ]
  },
  {
   "cell_type": "markdown",
   "metadata": {},
   "source": [
    "# Graph Commons example\n",
    "\n",
    "There is a plethora of software that can help you build network graphs. One of the most accessible is [Graph Commons](https://graphcommons.com/). \n",
    "\n",
    "Let's check out the multi-modal network on the homepage. Can you identify the different components of the network? \n",
    "\n",
    "### Graph Commons - component types\n",
    "\n",
    "Let's break them down for nodes and edges\n",
    "\n",
    "Node components:\n",
    "- Person, organization, city\n",
    "\n",
    "Edge components\n",
    "- Collaborates, friends with, based in, works\n",
    "\n",
    "##### Gephi and Cytoscape\n",
    "[Gephi](https://gephi.org/) and [Cytoscape](https://cytoscape.org/) are others.  "
   ]
  },
  {
   "cell_type": "markdown",
   "metadata": {},
   "source": [
    "# Conjectures on World Literature\n",
    "\n",
    "[Moretti](https://newleftreview.org/II/1/franco-moretti-conjectures-on-world-literature) took issue with close reading, over-theorization, and linguistic and media imperialisms and noted the problematic nature of the construction of epistemologies for comparison of things and the abstractions that comprise them.\n",
    "    \n",
    "Therefore, reading _more_ text from a greater distance (opposite of \"close\" reading) presents interesting potential for analyzing text because of the ability to illustrate these relationships in a network graph.  \n",
    "\n",
    "Let's look at a network based on two sentences that use some of the same words in non-Euclidean space. Leaving in the stop words are okay for now. We will:  \n",
    "1. construct a graph  \n",
    "2. add nodes  \n",
    "3. construct edges between these nodes  \n",
    "4. define paths betwen certain nodes"
   ]
  },
  {
   "cell_type": "code",
   "execution_count": 2,
   "metadata": {},
   "outputs": [
    {
     "name": "stdout",
     "output_type": "stream",
     "text": [
      "Bob threw the ball to Jill. Jill threw the ball back to Bob. \n"
     ]
    }
   ],
   "source": [
    "text = \"Bob threw the ball to Jill. Jill threw the ball back to Bob. \"\n",
    "print(text)"
   ]
  },
  {
   "cell_type": "markdown",
   "metadata": {},
   "source": [
    "# [n-grams](https://en.wikipedia.org/wiki/N-gram)\n",
    "\n",
    "If a word is a \"gram\" (node), then a [bi-gram](https://en.wikipedia.org/wiki/Bigram) represents 1) the word and 2) the one before or after it. A [tri-gram](https://en.wikipedia.org/wiki/Trigram) is three words in succession, etc. \n",
    "\n",
    "Our two sentences in `text` both have an n-gram relationship between them - there is only one Jill and one Bob!  \n",
    "\n",
    "Thus, the weight between Jill, Bob, and threw (the verb) will be larger than any of the other grams!  \n",
    "\n",
    "Degree = there are two bobs, two jills, two balls, and two threw. \n",
    "\n",
    "Nodes get a \"count\" attribute so that more words = larger nodes. "
   ]
  },
  {
   "cell_type": "markdown",
   "metadata": {},
   "source": [
    "# View the nx help\n",
    "\n",
    "Like the other help files we have talked about, sort through the help files when you get a few minutes spare time - just open the help and read a few lines. Do this 5 times and you should be able to understand what the method does. \n",
    "\n",
    "Although cryptic and frustrating in the first year or two, after some hours of study you will begin to realize that the help files do in fact, tell you everything and exactly what you need to know.  \n",
    "\n",
    "How have you learned to identify pieces of the code? (hint: functions versus arguments)  \n",
    "\n",
    "How do you look up an argument's definition?  \n",
    "\n",
    "Take a few minutes to read the help files - what are we dealing with here?  \n",
    "\n",
    "**NOTE:** we will return to the example in the help file at the end of class to review your understanding.  "
   ]
  },
  {
   "cell_type": "code",
   "execution_count": 3,
   "metadata": {},
   "outputs": [
    {
     "name": "stdout",
     "output_type": "stream",
     "text": [
      "Help on package networkx:\n",
      "\n",
      "NAME\n",
      "    networkx\n",
      "\n",
      "DESCRIPTION\n",
      "    NetworkX\n",
      "    ========\n",
      "    \n",
      "    NetworkX is a Python package for the creation, manipulation,\n",
      "    and study of the structure, dynamics, and functions\n",
      "    of complex networks.\n",
      "    \n",
      "    Website (including documentation)::\n",
      "    \n",
      "        http://networkx.github.io\n",
      "    \n",
      "    Mailing list::\n",
      "    \n",
      "        https://groups.google.com/forum/#!forum/networkx-discuss\n",
      "    \n",
      "    Source::\n",
      "    \n",
      "        https://github.com/networkx/networkx\n",
      "    \n",
      "    Bug reports::\n",
      "    \n",
      "        https://github.com/networkx/networkx/issues\n",
      "    \n",
      "    Simple example\n",
      "    --------------\n",
      "    \n",
      "    Find the shortest path between two nodes in an undirected graph::\n",
      "    \n",
      "        >>> import networkx as nx\n",
      "        >>> G = nx.Graph()\n",
      "        >>> G.add_edge('A', 'B', weight=4)\n",
      "        >>> G.add_edge('B', 'D', weight=2)\n",
      "        >>> G.add_edge('A', 'C', weight=3)\n",
      "        >>> G.add_edge('C', 'D', weight=4)\n",
      "        >>> nx.shortest_path(G, 'A', 'D', weight='weight')\n",
      "        ['A', 'B', 'D']\n",
      "    \n",
      "    Bugs\n",
      "    ----\n",
      "    \n",
      "    Please report any bugs that you find `here <https://github.com/networkx/networkx/issues>`_.\n",
      "    Or, even better, fork the repository on GitHub and create a pull request (PR).\n",
      "    \n",
      "    License\n",
      "    -------\n",
      "    \n",
      "    Released under the 3-Clause BSD license::\n",
      "    \n",
      "       Copyright (C) 2004-2018 NetworkX Developers\n",
      "       Aric Hagberg <hagberg@lanl.gov>\n",
      "       Dan Schult <dschult@colgate.edu>\n",
      "       Pieter Swart <swart@lanl.gov>\n",
      "\n",
      "PACKAGE CONTENTS\n",
      "    algorithms (package)\n",
      "    classes (package)\n",
      "    convert\n",
      "    convert_matrix\n",
      "    drawing (package)\n",
      "    exception\n",
      "    generators (package)\n",
      "    linalg (package)\n",
      "    readwrite (package)\n",
      "    relabel\n",
      "    release\n",
      "    testing (package)\n",
      "    tests (package)\n",
      "    utils (package)\n",
      "    version\n",
      "\n",
      "SUBMODULES\n",
      "    adjacency\n",
      "    adjlist\n",
      "    algebraicconnectivity\n",
      "    all\n",
      "    assortativity\n",
      "    astar\n",
      "    atlas\n",
      "    attracting\n",
      "    attrmatrix\n",
      "    beamsearch\n",
      "    betweenness\n",
      "    betweenness_subset\n",
      "    biconnected\n",
      "    binary\n",
      "    bipartite\n",
      "    boundary\n",
      "    breadth_first_search\n",
      "    centrality\n",
      "    chains\n",
      "    chordal\n",
      "    classic\n",
      "    clique\n",
      "    closeness\n",
      "    cluster\n",
      "    coloring\n",
      "    communicability_alg\n",
      "    community\n",
      "    components\n",
      "    connected\n",
      "    connectivity\n",
      "    core\n",
      "    coreviews\n",
      "    correlation\n",
      "    covering\n",
      "    current_flow_betweenness\n",
      "    current_flow_betweenness_subset\n",
      "    current_flow_closeness\n",
      "    cuts\n",
      "    cycles\n",
      "    cytoscape\n",
      "    dag\n",
      "    degree_alg\n",
      "    degree_seq\n",
      "    dense\n",
      "    depth_first_search\n",
      "    digraph\n",
      "    directed\n",
      "    distance_measures\n",
      "    distance_regular\n",
      "    dominance\n",
      "    dominating\n",
      "    duplication\n",
      "    edgebfs\n",
      "    edgedfs\n",
      "    edgelist\n",
      "    ego\n",
      "    eigenvector\n",
      "    euler\n",
      "    expanders\n",
      "    filters\n",
      "    flow\n",
      "    flow_matrix\n",
      "    function\n",
      "    generic\n",
      "    geometric\n",
      "    gexf\n",
      "    gml\n",
      "    gpickle\n",
      "    graph\n",
      "    graph6\n",
      "    graphical\n",
      "    graphmatrix\n",
      "    graphml\n",
      "    graphviews\n",
      "    harmonic\n",
      "    hierarchy\n",
      "    hits_alg\n",
      "    hybrid\n",
      "    isolate\n",
      "    isomorphism\n",
      "    jit\n",
      "    joint_degree_seq\n",
      "    json_graph\n",
      "    katz\n",
      "    laplacianmatrix\n",
      "    lattice\n",
      "    layout\n",
      "    leda\n",
      "    line\n",
      "    link_analysis\n",
      "    link_prediction\n",
      "    load\n",
      "    lowest_common_ancestors\n",
      "    matching\n",
      "    minors\n",
      "    mis\n",
      "    mixing\n",
      "    modularitymatrix\n",
      "    multidigraph\n",
      "    multigraph\n",
      "    multiline_adjlist\n",
      "    mycielski\n",
      "    neighbor_degree\n",
      "    node_classification\n",
      "    node_link\n",
      "    nx_agraph\n",
      "    nx_pydot\n",
      "    nx_pylab\n",
      "    nx_shp\n",
      "    nx_yaml\n",
      "    operators\n",
      "    ordered\n",
      "    pagerank_alg\n",
      "    pairs\n",
      "    pajek\n",
      "    percolation\n",
      "    planarity\n",
      "    product\n",
      "    random_clustered\n",
      "    random_graphs\n",
      "    reaching\n",
      "    reportviews\n",
      "    richclub\n",
      "    second_order\n",
      "    semiconnected\n",
      "    shortest_paths\n",
      "    similarity\n",
      "    simple_paths\n",
      "    small\n",
      "    smallworld\n",
      "    smetric\n",
      "    social\n",
      "    sparse6\n",
      "    sparsifiers\n",
      "    spectrum\n",
      "    stochastic\n",
      "    strongly_connected\n",
      "    structuralholes\n",
      "    subgraph_alg\n",
      "    swap\n",
      "    tournament\n",
      "    traversal\n",
      "    tree\n",
      "    trees\n",
      "    triads\n",
      "    unary\n",
      "    unweighted\n",
      "    vitality\n",
      "    voronoi\n",
      "    weakly_connected\n",
      "    weighted\n",
      "    wiener\n",
      "\n",
      "DATA\n",
      "    __bibtex__ = '@inproceedings{hagberg-2008-exploring,\\nauthor = ...\\nad...\n",
      "    __license__ = 'BSD'\n",
      "    absolute_import = _Feature((2, 5, 0, 'alpha', 1), (3, 0, 0, 'alpha', 0...\n",
      "\n",
      "VERSION\n",
      "    2.2\n",
      "\n",
      "DATE\n",
      "    Mon Jun 17 20:19:31 2019\n",
      "\n",
      "AUTHOR\n",
      "    Aric Hagberg <hagberg@lanl.gov>\n",
      "    Dan Schult <dschult@colgate.edu>\n",
      "    Pieter Swart <swart@lanl.gov>\n",
      "\n",
      "FILE\n",
      "    /anaconda3/lib/python3.7/site-packages/networkx/__init__.py\n",
      "\n",
      "\n"
     ]
    }
   ],
   "source": [
    "help(nx)"
   ]
  },
  {
   "cell_type": "markdown",
   "metadata": {},
   "source": [
    "# Define an empty `nx` graph\n",
    "\n",
    "Similar to creating empty lists to be populated with some data such as in aggregation, we want to store our graph as a specific, empty type. Call it `graph1`  "
   ]
  },
  {
   "cell_type": "code",
   "execution_count": 4,
   "metadata": {},
   "outputs": [
    {
     "name": "stdout",
     "output_type": "stream",
     "text": [
      "<class 'networkx.classes.graph.Graph'>\n"
     ]
    }
   ],
   "source": [
    "graph1 = nx.Graph()\n",
    "print(type(graph1))"
   ]
  },
  {
   "cell_type": "markdown",
   "metadata": {},
   "source": [
    "# Challenge 1\n",
    "\n",
    "1. What are nodes and edges? Conceptualize a network graph and sketch it out with paper and pencil.  "
   ]
  },
  {
   "cell_type": "markdown",
   "metadata": {},
   "source": [
    "# Plotting nodes\n",
    "\n",
    "Adding nodes are a fundamental first step to constructing a network graph. Let's add the content of `text` to our empty graph using the `.add_nodes_from` method:"
   ]
  },
  {
   "cell_type": "code",
   "execution_count": 5,
   "metadata": {},
   "outputs": [
    {
     "data": {
      "text/plain": [
       "NodeView(('Bob', 'threw', 'the', 'ball', 'to', 'Jill.', 'Jill', 'back', 'Bob.'))"
      ]
     },
     "execution_count": 5,
     "metadata": {},
     "output_type": "execute_result"
    }
   ],
   "source": [
    "graph1.add_nodes_from(text.split())\n",
    "\n",
    "# View the nodes\n",
    "graph1.nodes()"
   ]
  },
  {
   "cell_type": "markdown",
   "metadata": {},
   "source": [
    "# Plot the nodes\n",
    "\n",
    "We can then draw the graph - what do you notice?"
   ]
  },
  {
   "cell_type": "code",
   "execution_count": 12,
   "metadata": {},
   "outputs": [],
   "source": [
    "#help(nx.draw)"
   ]
  },
  {
   "cell_type": "code",
   "execution_count": 9,
   "metadata": {},
   "outputs": [
    {
     "data": {
      "image/png": "[encoded data removed]",
      "text/plain": [
       "<Figure size 432x288 with 1 Axes>"
      ]
     },
     "metadata": {},
     "output_type": "display_data"
    }
   ],
   "source": [
    "nx.draw(graph1, \n",
    "        with_labels = True, \n",
    "        font_weight='bold', \n",
    "        node_color = \"orange\",\n",
    "        node_size = 2000, \n",
    "        # change transparency\n",
    "        alpha = 0.8, \n",
    "        pos = nx.shell_layout(graph1))"
   ]
  },
  {
   "cell_type": "markdown",
   "metadata": {},
   "source": [
    "# Challenge 2\n",
    "\n",
    "Add a third actor who also throws the ball to Bob.  \n",
    "\n",
    "Given what you know about the `add_nodes_from` method, add the grams from the below sentence `text2` to `graph1`"
   ]
  },
  {
   "cell_type": "code",
   "execution_count": 10,
   "metadata": {},
   "outputs": [
    {
     "data": {
      "text/plain": [
       "NodeView(('Bob', 'threw', 'the', 'ball', 'to', 'Jill.', 'Jill', 'back', 'Bob.', 'Ted'))"
      ]
     },
     "execution_count": 10,
     "metadata": {},
     "output_type": "execute_result"
    }
   ],
   "source": [
    "text2 = \"Ted threw the ball back to Bob.\"\n",
    "\n",
    "## YOUR CODE HERE\n",
    "\n",
    "graph1.add_nodes_from(text2.split())\n",
    "\n",
    "graph1.nodes()"
   ]
  },
  {
   "cell_type": "code",
   "execution_count": 13,
   "metadata": {},
   "outputs": [
    {
     "data": {
      "image/png": "[encoded data removed]",
      "text/plain": [
       "<Figure size 432x288 with 1 Axes>"
      ]
     },
     "metadata": {},
     "output_type": "display_data"
    }
   ],
   "source": [
    "nx.draw(graph1, \n",
    "        with_labels = True, \n",
    "        font_weight='bold', \n",
    "        node_color = \"orange\",\n",
    "        node_size = 2000, \n",
    "        alpha = 0.8, \n",
    "        pos = nx.spring_layout(graph1))\n",
    "        # set the seed to ensure a reproducible initial condition\n"
   ]
  },
  {
   "cell_type": "markdown",
   "metadata": {},
   "source": [
    "# Challenge 3\n",
    "\n",
    "1. Add `text1` to `text2` to create a new variable named `text3`. \n",
    "2. Remove the punctuation from `text3`. \n",
    "3. Tokenize `text3`. Save the cleaned, tokenized text in a variable named `tokens`.\n",
    "4. Plot the `text3` clean nodes!"
   ]
  },
  {
   "cell_type": "code",
   "execution_count": 46,
   "metadata": {
    "scrolled": true
   },
   "outputs": [
    {
     "name": "stdout",
     "output_type": "stream",
     "text": [
      "Bob threw the ball to Jill Jill threw the ball back to Bob Ted threw the ball back to Bob\n",
      "['Bob', 'threw', 'the', 'ball', 'to', 'Jill', 'Jill', 'threw', 'the', 'ball', 'back', 'to', 'Bob', 'Ted', 'threw', 'the', 'ball', 'back', 'to', 'Bob']\n"
     ]
    }
   ],
   "source": [
    "## YOUR CODE HERE\n",
    "text1 = text\n",
    "text3 = text1 + text2\n",
    "\n",
    "from string import punctuation\n",
    "for char in punctuation: \n",
    "    text3 = text3.replace(char, \"\")\n",
    "print(text3)\n",
    "\n",
    "import nltk\n",
    "from nltk.tokenize import word_tokenize\n",
    "text3_tokens = word_tokenize(text3)\n",
    "print(text3_tokens)\n"
   ]
  },
  {
   "cell_type": "code",
   "execution_count": 47,
   "metadata": {},
   "outputs": [
    {
     "data": {
      "text/plain": [
       "NodeView(('Bob', 'threw', 'the', 'ball', 'to', 'Jill.', 'Jill', 'back', 'Bob.', 'Ted'))"
      ]
     },
     "execution_count": 47,
     "metadata": {},
     "output_type": "execute_result"
    }
   ],
   "source": [
    "graph1.add_nodes_from(text3_tokens)\n",
    "\n",
    "graph1.nodes()"
   ]
  },
  {
   "cell_type": "code",
   "execution_count": 61,
   "metadata": {},
   "outputs": [
    {
     "data": {
      "image/png": "[encoded data removed]",
      "text/plain": [
       "<Figure size 432x288 with 1 Axes>"
      ]
     },
     "metadata": {},
     "output_type": "display_data"
    }
   ],
   "source": [
    "nx.draw(graph1, \n",
    "        with_labels = True, \n",
    "        font_weight='bold', \n",
    "        node_color = \"orange\",\n",
    "        node_size = 2000, \n",
    "        alpha = 0.8, \n",
    "        pos = nx.spring_layout(graph1))"
   ]
  },
  {
   "cell_type": "markdown",
   "metadata": {
    "collapsed": true
   },
   "source": [
    "# Drawing edges\n",
    "\n",
    "Now, let's draw edges between the nodes to represent their relationships. "
   ]
  },
  {
   "cell_type": "code",
   "execution_count": 44,
   "metadata": {},
   "outputs": [],
   "source": [
    "graph1.add_edges_from([\n",
    "    (\"Bob\", \"threw\"), \n",
    "    (\"threw\", \"the\"),\n",
    "    (\"the\", \"ball\"),\n",
    "    (\"ball\", \"to\",),\n",
    "    (\"to\", \"Jill\"),\n",
    "    (\"Jill\",\"threw\"),\n",
    "    (\"threw\",\"the\"),\n",
    "    (\"ball\",\"back\"),\n",
    "    (\"back\",\"to\"),\n",
    "    (\"to\",\"Bob\"), \n",
    "    (\"Ted\",\"threw\"),\n",
    "    (\"threw\",\"the\"),\n",
    "    (\"the\",\"ball\"),\n",
    "    (\"ball\",\"back\"),\n",
    "    (\"back\",\"to\"),\n",
    "    (\"to\", \"Bob\")\n",
    "])"
   ]
  },
  {
   "cell_type": "code",
   "execution_count": 45,
   "metadata": {},
   "outputs": [
    {
     "name": "stderr",
     "output_type": "stream",
     "text": [
      "/anaconda3/lib/python3.7/site-packages/networkx/drawing/nx_pylab.py:611: MatplotlibDeprecationWarning: isinstance(..., numbers.Number)\n",
      "  if cb.is_numlike(alpha):\n"
     ]
    },
    {
     "data": {
      "image/png": "[encoded data removed]",
      "text/plain": [
       "<Figure size 432x288 with 1 Axes>"
      ]
     },
     "metadata": {},
     "output_type": "display_data"
    }
   ],
   "source": [
    "# Plot edges\n",
    "\n",
    "nx.draw(graph1, \n",
    "        with_labels = True, \n",
    "        font_weight='bold', \n",
    "        node_color = \"orange\",\n",
    "        node_size = 2000, \n",
    "        alpha = 0.8, \n",
    "        pos = nx.shell_layout(graph1))"
   ]
  },
  {
   "cell_type": "markdown",
   "metadata": {
    "collapsed": true
   },
   "source": [
    "# Challenge 4\n",
    "\n",
    "1. What's up with Ted? \n",
    "2. Read up on different layouts here: https://networkx.github.io/documentation/stable/reference/drawing.html#module-networkx.drawing.layout"
   ]
  },
  {
   "cell_type": "markdown",
   "metadata": {},
   "source": [
    "# Node and edge lists\n",
    "\n",
    "Storing network data in node and edge lists help us plug them into NetworkX methods with ease. Plus we do not want to enter our nodes and edges manually, but have Python do it for us: "
   ]
  },
  {
   "cell_type": "code",
   "execution_count": 64,
   "metadata": {},
   "outputs": [
    {
     "data": {
      "text/plain": [
       "[('Bob', 'threw'),\n",
       " ('threw', 'the'),\n",
       " ('the', 'ball'),\n",
       " ('ball', 'to'),\n",
       " ('to', 'Jill'),\n",
       " ('Jill', 'Jill'),\n",
       " ('Jill', 'threw'),\n",
       " ('threw', 'the'),\n",
       " ('the', 'ball'),\n",
       " ('ball', 'back'),\n",
       " ('back', 'to'),\n",
       " ('to', 'Bob'),\n",
       " ('Bob', 'Ted'),\n",
       " ('Ted', 'threw'),\n",
       " ('threw', 'the'),\n",
       " ('the', 'ball'),\n",
       " ('ball', 'back'),\n",
       " ('back', 'to'),\n",
       " ('to', 'Bob')]"
      ]
     },
     "execution_count": 64,
     "metadata": {},
     "output_type": "execute_result"
    }
   ],
   "source": [
    "node_list = \"Bob threw the ball to Jill Jill threw the ball back to Bob Ted threw the ball back to Bob\"\n",
    "bigram_edge_list = list(nltk.bigrams(node_list.split()))\n",
    "bigram_edge_list"
   ]
  },
  {
   "cell_type": "markdown",
   "metadata": {},
   "source": [
    "# Plot again using `node_list` and `edge_list`\n",
    "\n",
    "Same thing!"
   ]
  },
  {
   "cell_type": "code",
   "execution_count": 65,
   "metadata": {},
   "outputs": [
    {
     "data": {
      "image/png": "[encoded data removed]",
      "text/plain": [
       "<Figure size 432x288 with 1 Axes>"
      ]
     },
     "metadata": {},
     "output_type": "display_data"
    }
   ],
   "source": [
    "graph1 = nx.Graph(bigram_edge_list)\n",
    "\n",
    "nx.draw(graph1, \n",
    "        with_labels = True, \n",
    "        font_weight='bold', \n",
    "        node_color = \"pink\",\n",
    "        node_size = 2000, \n",
    "        alpha = 0.8, \n",
    "        pos = nx.shell_layout(graph1))"
   ]
  },
  {
   "cell_type": "markdown",
   "metadata": {},
   "source": [
    "# Add a path\n",
    "\n",
    "The shortest path between Jill and Bob is through \"to\"!"
   ]
  },
  {
   "cell_type": "code",
   "execution_count": null,
   "metadata": {},
   "outputs": [],
   "source": [
    "# help(nx.shortest_path)"
   ]
  },
  {
   "cell_type": "code",
   "execution_count": 66,
   "metadata": {},
   "outputs": [
    {
     "data": {
      "text/plain": [
       "['Jill', 'to', 'Bob']"
      ]
     },
     "execution_count": 66,
     "metadata": {},
     "output_type": "execute_result"
    }
   ],
   "source": [
    "shortest_graph = nx.shortest_path(graph1, \"Jill\", \"Bob\", weight=1)\n",
    "shortest_graph"
   ]
  },
  {
   "cell_type": "markdown",
   "metadata": {},
   "source": [
    "# Look at example from `help(nx.DiGraph)`\n",
    "\n",
    "Just plug our information in!  \n",
    "\n",
    "The ball is common to the three actors in our network, but Ted only knows Jill through the ball, whereas only Bob and Jill directly know each other. "
   ]
  },
  {
   "cell_type": "code",
   "execution_count": null,
   "metadata": {},
   "outputs": [],
   "source": [
    "help(nx.DiGraph)"
   ]
  },
  {
   "cell_type": "markdown",
   "metadata": {},
   "source": [
    "# Challenge 5\n",
    "\n",
    "What is a DiGraph?"
   ]
  },
  {
   "cell_type": "code",
   "execution_count": 70,
   "metadata": {},
   "outputs": [
    {
     "data": {
      "image/png": "[encoded data removed]",
      "text/plain": [
       "<Figure size 432x288 with 1 Axes>"
      ]
     },
     "metadata": {},
     "output_type": "display_data"
    }
   ],
   "source": [
    "# Define G to hold information from `bigram_edge_list`\n",
    "G = nx.DiGraph(bigram_edge_list)\n",
    "\n",
    "# Add nodes from `node_list`\n",
    "G.add_nodes_from(node_list.split())\n",
    "\n",
    "# Define the path\n",
    "H = nx.path_graph(node_list.split())\n",
    "\n",
    "# Add the edges from `bigram_edge_list`\n",
    "G.add_edges_from(bigram_edge_list)\n",
    "\n",
    "# Add the path to the graph G\n",
    "G.add_nodes_from(H)\n",
    "\n",
    "# Plot G\n",
    "nx.draw(G, \n",
    "        with_labels = True, \n",
    "        font_weight='bold', \n",
    "        node_color = \"lightblue\",\n",
    "        node_size = 2000, \n",
    "        alpha = 0.8, \n",
    "        pos = nx.spring_layout(graph1, seed = 1))"
   ]
  },
  {
   "cell_type": "markdown",
   "metadata": {
    "collapsed": true
   },
   "source": [
    "# Challenge 6\n",
    "\n",
    "1. Load the `correspondence-data-1585.csv` file. \n",
    "2. Divide it into edge and node lists. \n",
    "3. Create a DiGraph for this correspondence"
   ]
  },
  {
   "cell_type": "code",
   "execution_count": 68,
   "metadata": {
    "scrolled": true
   },
   "outputs": [
    {
     "data": {
      "text/html": [
       "<div>\n",
       "<style scoped>\n",
       "    .dataframe tbody tr th:only-of-type {\n",
       "        vertical-align: middle;\n",
       "    }\n",
       "\n",
       "    .dataframe tbody tr th {\n",
       "        vertical-align: top;\n",
       "    }\n",
       "\n",
       "    .dataframe thead th {\n",
       "        text-align: right;\n",
       "    }\n",
       "</style>\n",
       "<table border=\"1\" class=\"dataframe\">\n",
       "  <thead>\n",
       "    <tr style=\"text-align: right;\">\n",
       "      <th></th>\n",
       "      <th>writer</th>\n",
       "      <th>source</th>\n",
       "      <th>destination</th>\n",
       "      <th>date</th>\n",
       "    </tr>\n",
       "  </thead>\n",
       "  <tbody>\n",
       "    <tr>\n",
       "      <th>0</th>\n",
       "      <td>Meulen, Andries van der</td>\n",
       "      <td>Antwerp</td>\n",
       "      <td>Delft</td>\n",
       "      <td>1585-01-03</td>\n",
       "    </tr>\n",
       "    <tr>\n",
       "      <th>1</th>\n",
       "      <td>Meulen, Andries van der</td>\n",
       "      <td>Antwerp</td>\n",
       "      <td>Haarlem</td>\n",
       "      <td>1585-01-09</td>\n",
       "    </tr>\n",
       "    <tr>\n",
       "      <th>2</th>\n",
       "      <td>Meulen, Andries van der</td>\n",
       "      <td>Antwerp</td>\n",
       "      <td>Haarlem</td>\n",
       "      <td>1585-01-11</td>\n",
       "    </tr>\n",
       "    <tr>\n",
       "      <th>3</th>\n",
       "      <td>Meulen, Andries van der</td>\n",
       "      <td>Antwerp</td>\n",
       "      <td>Delft</td>\n",
       "      <td>1585-01-12</td>\n",
       "    </tr>\n",
       "    <tr>\n",
       "      <th>4</th>\n",
       "      <td>Meulen, Andries van der</td>\n",
       "      <td>Antwerp</td>\n",
       "      <td>Haarlem</td>\n",
       "      <td>1585-01-12</td>\n",
       "    </tr>\n",
       "  </tbody>\n",
       "</table>\n",
       "</div>"
      ],
      "text/plain": [
       "                    writer   source destination        date\n",
       "0  Meulen, Andries van der  Antwerp       Delft  1585-01-03\n",
       "1  Meulen, Andries van der  Antwerp     Haarlem  1585-01-09\n",
       "2  Meulen, Andries van der  Antwerp     Haarlem  1585-01-11\n",
       "3  Meulen, Andries van der  Antwerp       Delft  1585-01-12\n",
       "4  Meulen, Andries van der  Antwerp     Haarlem  1585-01-12"
      ]
     },
     "execution_count": 68,
     "metadata": {},
     "output_type": "execute_result"
    }
   ],
   "source": [
    "crsp = pd.read_csv(\"data/correspondence-data-1585.csv\")\n",
    "crsp.head()"
   ]
  },
  {
   "cell_type": "code",
   "execution_count": 83,
   "metadata": {},
   "outputs": [
    {
     "name": "stdout",
     "output_type": "stream",
     "text": [
      "['Antwerp' 'Haarlem' 'Dordrecht' 'Venice' 'Lisse' 'Het Vlie' 'Hamburg'\n",
      " 'Emden' 'Amsterdam']\n",
      "['Delft' 'Haarlem' 'The Hague' 'Middelburg' 'Bremen']\n",
      "['Meulen, Andries van der' 'Della Faille, Marten' 'Della Faille, Jacques'\n",
      " 'Staten van Brabant' 'Della Faille, Joris' 'Eeckeren, Robert van'\n",
      " 'Anraet, Thomas' 'Burgemeesters of Antwerp' 'Wale, Jan de'\n",
      " 'Calvart, Jacques' 'Janssen van der Meulen, Peeter' 'Noirot, Jacques']\n"
     ]
    }
   ],
   "source": [
    "print(pd.unique(crsp[\"source\"]))\n",
    "print(pd.unique(crsp[\"destination\"]))\n",
    "print(pd.unique(crsp.writer))"
   ]
  },
  {
   "cell_type": "code",
   "execution_count": 101,
   "metadata": {
    "scrolled": true
   },
   "outputs": [
    {
     "data": {
      "image/png": "[encoded data removed]",
      "text/plain": [
       "<Figure size 432x288 with 1 Axes>"
      ]
     },
     "metadata": {},
     "output_type": "display_data"
    }
   ],
   "source": [
    "G = nx.from_pandas_edgelist(crsp, \n",
    "                            source = \"source\", \n",
    "                            target = \"destination\",\n",
    "                            edge_attr = \"writer\", \n",
    "                            create_using=nx.DiGraph())\n",
    "\n",
    "nx.draw(G, \n",
    "        with_labels = True,  \n",
    "        font_weight='bold', \n",
    "        node_color = \"lightblue\",\n",
    "        width = 1, \n",
    "        edge_cmap = \"date\",\n",
    "        node_size = 1000, pos = nx.spring_layout(G), seed = 1)"
   ]
  },
  {
   "cell_type": "markdown",
   "metadata": {},
   "source": [
    "# Challenge 7 - Social network analysis\n",
    "\n",
    "## Notebook: Parsing Enron emails for SNA in Python\n",
    "Go through the below code to see how a real-life example works. We'll have to do a lot of counting of these relationships through all the emails we have. We need one 'nodes' CSV file and one 'edge' CSV file. The 'nodes' CSV file will have a list of all the email addresses and how many emails contain them. The 'edge' file will have a list of all the interactions, i.e., who is sending an email to whom. Let's get started.\n",
    "\n",
    "You can download the raw files [here](https://www.cs.cmu.edu/~./enron/), but we've put it all into one JSON file for you so you don't have to go through a bunch of folders and open up the text files. Opening and closing thousands of files can take a long time. Reading in the JSON below should just take a few seconds.\n",
    "\n",
    "[Download the JSON file by clicking here](https://drive.google.com/drive/folders/1nSB1hcYodTrJw2y1fKVn2ZVjfI2r9pxP)"
   ]
  },
  {
   "cell_type": "code",
   "execution_count": null,
   "metadata": {},
   "outputs": [],
   "source": [
    "import json\n",
    "\n",
    "enron = json.load(open('data/enron-dataset.json'))\n",
    "enron.keys()"
   ]
  },
  {
   "cell_type": "code",
   "execution_count": null,
   "metadata": {},
   "outputs": [],
   "source": [
    "enron['griffith-j']"
   ]
  },
  {
   "cell_type": "markdown",
   "metadata": {},
   "source": [
    "To prepare the node CSV we'll need unique ids for all the email addresses, we'll first just collect all the email addresses in all the fields (to, cc, bcc) from the emails.\n",
    "\n",
    "At the same time, we'll start collecting the edges. I'll call them `connections` below. We'll make a key for every address that sends an email, and then have a nested `dictionary` with the fields and all the email addresses they've sent to. We'll be parsing the emails with the handy `email` library. This cell will take a while to run because it's a massive dataset. Run the cell and go get a coffee!"
   ]
  },
  {
   "cell_type": "code",
   "execution_count": null,
   "metadata": {},
   "outputs": [],
   "source": [
    "import email\n",
    "\n",
    "all_addresses = []\n",
    "connections = {}\n",
    "fields = ['To', 'From', 'Cc', 'Bcc']\n",
    "\n",
    "for person in enron.keys():\n",
    "    for box in enron[person].keys():\n",
    "        parsed_emails = [email.message_from_string(e) for e in enron[person][box]]\n",
    "        for e in parsed_emails:\n",
    "            \n",
    "            # if we haven't seen this email yet, set it up as a key in our dict\n",
    "            if e['From'] not in connections:\n",
    "                connections[e['From']] = {'To': [],\n",
    "                                          'Cc': [],\n",
    "                                          'Bcc': []}\n",
    "            \n",
    "            # now go through the fields and add to all_addresses and connections\n",
    "            for f in fields:\n",
    "                if e[f] != None:\n",
    "                    all_addresses.extend(e[f].replace(',', '').split())\n",
    "                    if f != 'From':\n",
    "                        connections[e['From']][f].extend(e[f].replace(',', '').split())  # multiple emails are separated by commas"
   ]
  },
  {
   "cell_type": "code",
   "execution_count": null,
   "metadata": {},
   "outputs": [],
   "source": [
    "all_addresses[:10]"
   ]
  },
  {
   "cell_type": "code",
   "execution_count": null,
   "metadata": {},
   "outputs": [],
   "source": [
    "connections['kevin.meredith@enron.com'].keys()"
   ]
  },
  {
   "cell_type": "code",
   "execution_count": null,
   "metadata": {},
   "outputs": [],
   "source": [
    "connections['kevin.meredith@enron.com']['To']"
   ]
  },
  {
   "cell_type": "code",
   "execution_count": null,
   "metadata": {},
   "outputs": [],
   "source": [
    "connections['kevin.meredith@enron.com']['Cc']"
   ]
  },
  {
   "cell_type": "code",
   "execution_count": null,
   "metadata": {},
   "outputs": [],
   "source": [
    "connections['kevin.meredith@enron.com']['Bcc']"
   ]
  },
  {
   "cell_type": "markdown",
   "metadata": {},
   "source": [
    "Now that we have everything organized we'll want to start counting. The `Counter` object from the `collections` library will help us out a lot here."
   ]
  },
  {
   "cell_type": "code",
   "execution_count": null,
   "metadata": {},
   "outputs": [],
   "source": [
    "from collections import Counter\n",
    "\n",
    "count_addresses = Counter(all_addresses)"
   ]
  },
  {
   "cell_type": "markdown",
   "metadata": {},
   "source": [
    "Let's also get the unique email addresses using the `set` type, but then turn it into a `list` so it's ordered:"
   ]
  },
  {
   "cell_type": "code",
   "execution_count": null,
   "metadata": {},
   "outputs": [],
   "source": [
    "unique_addresses = list(set(all_addresses))"
   ]
  },
  {
   "cell_type": "markdown",
   "metadata": {},
   "source": [
    "In `count_addresses` we now have a `Counter` object that we can index like a `dictionary`, and in `unique_addresses` we have a list of all addresses, essentially the keys to the `count_addresses` `dictionary`. If we ask for an email address here, we get back its frequency."
   ]
  },
  {
   "cell_type": "code",
   "execution_count": null,
   "metadata": {},
   "outputs": [],
   "source": [
    "id_dict = {}\n",
    "for i in range(len(unique_addresses)):\n",
    "    id_dict[unique_addresses[i]] = {'id': i + 1,\n",
    "                                  'count': count_addresses[unique_addresses[i]]}"
   ]
  },
  {
   "cell_type": "markdown",
   "metadata": {},
   "source": [
    "Let's see what we get:"
   ]
  },
  {
   "cell_type": "code",
   "execution_count": null,
   "metadata": {},
   "outputs": [],
   "source": [
    "id_dict['kevin.meredith@enron.com']"
   ]
  },
  {
   "cell_type": "markdown",
   "metadata": {},
   "source": [
    "Great, we now have all we need for the node CSV file. We'll write each row with the email address, the unique id, and its frequency. We name them 'Nodes', 'Id', and 'Count' below for Gephi."
   ]
  },
  {
   "cell_type": "code",
   "execution_count": null,
   "metadata": {},
   "outputs": [],
   "source": [
    "import csv\n",
    "\n",
    "id_rows = [['Nodes', 'Id', 'Count']]\n",
    "\n",
    "for k in id_dict.keys():\n",
    "    id_rows.append([k, id_dict[k]['id'], id_dict[k]['count']])\n",
    "\n",
    "with open(\"nodes-user-ids.csv\", \"w\") as fp:\n",
    "    wr = csv.writer(fp, dialect='excel')\n",
    "    wr.writerows(id_rows)"
   ]
  },
  {
   "cell_type": "code",
   "execution_count": null,
   "metadata": {},
   "outputs": [],
   "source": [
    "!head nodes-user-ids.csv"
   ]
  },
  {
   "cell_type": "markdown",
   "metadata": {},
   "source": [
    "Now we want to write the edge file CSV. We already stored all the connections in `connections`, but we'll want to count these similarly to what we did for the node file. Below we aggregate all the connections into one `dictionary` with a key for each field. Each connection will be a string with the two emails separated by a space."
   ]
  },
  {
   "cell_type": "code",
   "execution_count": null,
   "metadata": {},
   "outputs": [],
   "source": [
    "all_connections = {'To': [],\n",
    "                   'Cc': [],\n",
    "                   'Bcc': []}\n",
    "\n",
    "for k in connections.keys():\n",
    "    for k2 in connections[k].keys():  # for each field (To, Cc, Bcc)\n",
    "        for c in connections[k][k2]:  # for each email in the list\n",
    "            all_connections[k2].append(k + \" \" + c)  # add a string of the two emails separated by a space to the overall list in the correct field"
   ]
  },
  {
   "cell_type": "code",
   "execution_count": null,
   "metadata": {},
   "outputs": [],
   "source": [
    "all_connections['To'][:10]"
   ]
  },
  {
   "cell_type": "markdown",
   "metadata": {},
   "source": [
    "Now we want to count how many times two people interacted in this direction. We'll use the `Counter` object again."
   ]
  },
  {
   "cell_type": "code",
   "execution_count": null,
   "metadata": {},
   "outputs": [],
   "source": [
    "all_connections_freq = {'To': Counter(all_connections['To']),\n",
    "                   'Cc': Counter(all_connections['Cc']),\n",
    "                   'Bcc': Counter(all_connections['Bcc'])} "
   ]
  },
  {
   "cell_type": "code",
   "execution_count": null,
   "metadata": {},
   "outputs": [],
   "source": [
    "all_connections_freq['To']['tantra.invedy@enron.com tony.marquez@enron.com']"
   ]
  },
  {
   "cell_type": "markdown",
   "metadata": {},
   "source": [
    "So now we have everything we need for the edges file. We have the source email (the first email in the string), the target email (the second email in the string), and the count (frequency). Below we write that to a CSV file. We'll use the `split` method on the string to get the two emails."
   ]
  },
  {
   "cell_type": "code",
   "execution_count": null,
   "metadata": {},
   "outputs": [],
   "source": [
    "for sl in ['To', 'Cc', 'Bcc']:\n",
    "\n",
    "    id_rows = [['Source', 'Target', 'Count']]\n",
    "\n",
    "    for c in list(set(all_connections[sl])):\n",
    "        id_rows.append([id_dict[c.split()[0]]['id'], id_dict[c.split()[1]]['id'], all_connections_freq[sl][c]])\n",
    "\n",
    "    with open(\"edges-\" + sl + \".csv\", \"w\") as fp:\n",
    "        wr = csv.writer(fp, dialect='excel')\n",
    "        wr.writerows(id_rows)"
   ]
  },
  {
   "cell_type": "code",
   "execution_count": null,
   "metadata": {},
   "outputs": [],
   "source": [
    "!head edges-To.csv"
   ]
  },
  {
   "cell_type": "markdown",
   "metadata": {},
   "source": [
    "# ... back to NetworkX\n"
   ]
  },
  {
   "cell_type": "markdown",
   "metadata": {},
   "source": [
    "`networkx` creates a `Graph()` object. We then can add nodes with the `add_node` method. We'll want to add a node for each email in our email dictionary and add an attribute for the count. We'll use this count for the node size in our visualization."
   ]
  },
  {
   "cell_type": "code",
   "execution_count": null,
   "metadata": {},
   "outputs": [],
   "source": [
    "# setup graph object\n",
    "G = nx.Graph()\n",
    "\n",
    "threshold = 500\n",
    "\n",
    "# add nodes with attributes of number of lines and scenes\n",
    "for e in id_dict.keys():\n",
    "    if id_dict[e][\"count\"] > threshold:\n",
    "        G.add_node(\n",
    "            e,\n",
    "            count=id_dict[e][\"count\"]\n",
    "        )"
   ]
  },
  {
   "cell_type": "markdown",
   "metadata": {},
   "source": [
    "Now we can add edges with the `add_edge` method. The arguments are the first email, second email, and then weight, which for us is the frequency:"
   ]
  },
  {
   "cell_type": "code",
   "execution_count": null,
   "metadata": {},
   "outputs": [],
   "source": [
    "import itertools\n",
    "\n",
    "for c in all_connections_freq[\"To\"].keys():\n",
    "    emails = c.split()\n",
    "    \n",
    "    above = 0\n",
    "    for e in emails:\n",
    "        if id_dict[e][\"count\"] > threshold:\n",
    "            above += 1\n",
    "    \n",
    "    if above == len(emails):\n",
    "        for c in itertools.combinations(emails, 2):\n",
    "            G.add_edge(c[0], c[1], weight=all_connections_freq[\"To\"][c])"
   ]
  },
  {
   "cell_type": "markdown",
   "metadata": {},
   "source": [
    "We'll use `matplotlib` as the foundation to plot the network, but `networkx` conveniently provides us with the `draw_networkx` method so we don't have to figure out all the coordinates:"
   ]
  },
  {
   "cell_type": "code",
   "execution_count": null,
   "metadata": {},
   "outputs": [],
   "source": [
    "import matplotlib.pyplot as plt\n",
    "%matplotlib inline\n",
    "\n",
    "# nodes should be sized by number of lines\n",
    "node_size = [node[1]['count'] for node in G.nodes(data=True)]\n",
    "\n",
    "# node color\n",
    "node_color = 'blue'\n",
    "\n",
    "plt.figure(figsize=(13,8))  # make the figure size a little larger\n",
    "plt.axis('off')  # remove the axis, which isn't meaningful in this case\n",
    "plt.title(\"Enron Email Social Network\", fontsize=20)\n",
    "\n",
    "# The 'k' argument determines how spaced out the nodes will be from\n",
    "# one another on the graph.\n",
    "pos = nx.spring_layout(G)\n",
    "\n",
    "nx.draw_networkx(\n",
    "    G,\n",
    "    pos=pos,\n",
    "    node_size=node_size,\n",
    "    node_color=node_color,\n",
    "    edge_color='gray',  # change edge color\n",
    "    alpha=0.3,  # make nodes more transparent to make labels clearer\n",
    "    font_size=14,\n",
    ")"
   ]
  },
  {
   "cell_type": "markdown",
   "metadata": {},
   "source": [
    "We can calculate a few of the important metrics too.\n",
    "\n",
    "**Degree centrality:**"
   ]
  },
  {
   "cell_type": "code",
   "execution_count": null,
   "metadata": {},
   "outputs": [],
   "source": [
    "dc = [x for x in sorted(nx.degree_centrality(G).items(), key=lambda x: -x[1])]\n",
    "dc"
   ]
  },
  {
   "cell_type": "markdown",
   "metadata": {},
   "source": [
    "**Eigenvector centrality:**"
   ]
  },
  {
   "cell_type": "code",
   "execution_count": null,
   "metadata": {},
   "outputs": [],
   "source": [
    "ec = [x for x in sorted(nx.eigenvector_centrality(G).items(), key=lambda x: -x[1])]\n",
    "ec"
   ]
  },
  {
   "cell_type": "markdown",
   "metadata": {},
   "source": [
    "**Betweeness centrality:**"
   ]
  },
  {
   "cell_type": "code",
   "execution_count": null,
   "metadata": {
    "scrolled": true
   },
   "outputs": [],
   "source": [
    "bc = [x for x in sorted(nx.betweenness_centrality(G).items(), key=lambda x: -x[1])]\n",
    "bc"
   ]
  },
  {
   "cell_type": "code",
   "execution_count": null,
   "metadata": {},
   "outputs": [],
   "source": []
  }
 ],
 "metadata": {
  "kernelspec": {
   "display_name": "Python 3",
   "language": "python",
   "name": "python3"
  },
  "language_info": {
   "codemirror_mode": {
    "name": "ipython",
    "version": 3
   },
   "file_extension": ".py",
   "mimetype": "text/x-python",
   "name": "python",
   "nbconvert_exporter": "python",
   "pygments_lexer": "ipython3",
   "version": "3.7.3"
  }
 },
 "nbformat": 4,
 "nbformat_minor": 2
}
