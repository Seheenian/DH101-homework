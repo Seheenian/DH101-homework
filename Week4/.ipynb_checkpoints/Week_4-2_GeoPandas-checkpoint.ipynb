{
 "cells": [
  {
   "cell_type": "code",
   "execution_count": null,
   "metadata": {},
   "outputs": [],
   "source": [
    "# https://www.census.gov/programs-surveys/geography.html"
   ]
  },
  {
   "cell_type": "markdown",
   "metadata": {},
   "source": [
    "# Introduction to GeoPandas\n",
    "\n",
    "GeoPandas is a powerful tool to make maps with Python. \n",
    "\n",
    "Before we get into the code, let's review this [brief introduction to geospatial data.](https://docs.google.com/presentation/d/1d9GNcLDsnLxfLmrNRNZE976sHN5qNfkU9Rl2gabUsWc/edit?usp=sharing)"
   ]
  },
  {
   "cell_type": "code",
   "execution_count": 1,
   "metadata": {},
   "outputs": [
    {
     "name": "stdout",
     "output_type": "stream",
     "text": [
      "Collecting descartes\n",
      "  Downloading https://files.pythonhosted.org/packages/e5/b6/1ed2eb03989ae574584664985367ba70cd9cf8b32ee8cad0e8aaeac819f3/descartes-1.1.0-py3-none-any.whl\n",
      "Requirement already satisfied: matplotlib in /anaconda3/lib/python3.7/site-packages (from descartes) (3.0.3)\n",
      "Requirement already satisfied: numpy>=1.10.0 in /anaconda3/lib/python3.7/site-packages (from matplotlib->descartes) (1.16.2)\n",
      "Requirement already satisfied: cycler>=0.10 in /anaconda3/lib/python3.7/site-packages (from matplotlib->descartes) (0.10.0)\n",
      "Requirement already satisfied: kiwisolver>=1.0.1 in /anaconda3/lib/python3.7/site-packages (from matplotlib->descartes) (1.0.1)\n",
      "Requirement already satisfied: pyparsing!=2.0.4,!=2.1.2,!=2.1.6,>=2.0.1 in /anaconda3/lib/python3.7/site-packages (from matplotlib->descartes) (2.3.1)\n",
      "Requirement already satisfied: python-dateutil>=2.1 in /anaconda3/lib/python3.7/site-packages (from matplotlib->descartes) (2.8.0)\n",
      "Requirement already satisfied: six in /anaconda3/lib/python3.7/site-packages (from cycler>=0.10->matplotlib->descartes) (1.12.0)\n",
      "Requirement already satisfied: setuptools in /anaconda3/lib/python3.7/site-packages (from kiwisolver>=1.0.1->matplotlib->descartes) (40.8.0)\n",
      "Installing collected packages: descartes\n",
      "Successfully installed descartes-1.1.0\n",
      "Collecting geopandas\n",
      "\u001b[?25l  Downloading https://files.pythonhosted.org/packages/74/42/f4b147fc7920998a42046d0c2e65e61000bc5d104f1f8aec719612cb2fc8/geopandas-0.5.0-py2.py3-none-any.whl (893kB)\n",
      "\u001b[K     |████████████████████████████████| 901kB 9.9MB/s eta 0:00:01\n",
      "\u001b[?25hCollecting shapely (from geopandas)\n",
      "\u001b[?25l  Downloading https://files.pythonhosted.org/packages/1e/32/9d1cbfdc94864282be7745a7f7679ca16beb12ec5d71efd12a3f6cc0690a/Shapely-1.6.4.post2-cp37-cp37m-macosx_10_9_x86_64.whl (1.6MB)\n",
      "\u001b[K     |████████████████████████████████| 1.6MB 21.8MB/s eta 0:00:01\n",
      "\u001b[?25hCollecting fiona (from geopandas)\n",
      "\u001b[?25l  Downloading https://files.pythonhosted.org/packages/fc/75/7dd85bc9311f2b234e0ab0eba286da0dc2bf5af78106bd1aba519c06e62f/Fiona-1.8.6-cp37-cp37m-macosx_10_6_intel.macosx_10_9_intel.macosx_10_9_x86_64.macosx_10_10_intel.macosx_10_10_x86_64.whl (24.5MB)\n",
      "\u001b[K     |████████████████████████████████| 24.5MB 46.9MB/s eta 0:00:01\n",
      "\u001b[?25hCollecting pyproj (from geopandas)\n",
      "\u001b[?25l  Downloading https://files.pythonhosted.org/packages/58/8c/b4bbc8f2df1be7aa52ccde0eeae4a8868346897fbe6b2ae27d71a0356d63/pyproj-2.2.0-cp37-cp37m-macosx_10_6_intel.macosx_10_9_intel.macosx_10_9_x86_64.macosx_10_10_intel.macosx_10_10_x86_64.whl (11.6MB)\n",
      "\u001b[K     |████████████████████████████████| 11.6MB 18.0MB/s eta 0:00:01\n",
      "\u001b[?25hRequirement already satisfied: pandas in /anaconda3/lib/python3.7/site-packages (from geopandas) (0.24.2)\n",
      "Requirement already satisfied: six>=1.7 in /anaconda3/lib/python3.7/site-packages (from fiona->geopandas) (1.12.0)\n",
      "Collecting cligj>=0.5 (from fiona->geopandas)\n",
      "  Downloading https://files.pythonhosted.org/packages/e4/be/30a58b4b0733850280d01f8bd132591b4668ed5c7046761098d665ac2174/cligj-0.5.0-py3-none-any.whl\n",
      "Requirement already satisfied: click<8,>=4.0 in /anaconda3/lib/python3.7/site-packages (from fiona->geopandas) (7.0)\n",
      "Collecting munch (from fiona->geopandas)\n",
      "  Downloading https://files.pythonhosted.org/packages/68/f4/260ec98ea840757a0da09e0ed8135333d59b8dfebe9752a365b04857660a/munch-2.3.2.tar.gz\n",
      "Collecting click-plugins>=1.0 (from fiona->geopandas)\n",
      "  Downloading https://files.pythonhosted.org/packages/e9/da/824b92d9942f4e472702488857914bdd50f73021efea15b4cad9aca8ecef/click_plugins-1.1.1-py2.py3-none-any.whl\n",
      "Requirement already satisfied: attrs>=17 in /anaconda3/lib/python3.7/site-packages (from fiona->geopandas) (19.1.0)\n",
      "Requirement already satisfied: pytz>=2011k in /anaconda3/lib/python3.7/site-packages (from pandas->geopandas) (2018.9)\n",
      "Requirement already satisfied: python-dateutil>=2.5.0 in /anaconda3/lib/python3.7/site-packages (from pandas->geopandas) (2.8.0)\n",
      "Requirement already satisfied: numpy>=1.12.0 in /anaconda3/lib/python3.7/site-packages (from pandas->geopandas) (1.16.2)\n",
      "Building wheels for collected packages: munch\n",
      "  Building wheel for munch (setup.py) ... \u001b[?25ldone\n",
      "\u001b[?25h  Stored in directory: /Users/s2park2018/Library/Caches/pip/wheels/db/bf/bc/06a3e1bfe0ab27d2e720ceb3cff3159398d92644c0cec2c125\n",
      "Successfully built munch\n",
      "Installing collected packages: shapely, cligj, munch, click-plugins, fiona, pyproj, geopandas\n",
      "Successfully installed click-plugins-1.1.1 cligj-0.5.0 fiona-1.8.6 geopandas-0.5.0 munch-2.3.2 pyproj-2.2.0 shapely-1.6.4.post2\n",
      "Requirement already satisfied: shapely in /anaconda3/lib/python3.7/site-packages (1.6.4.post2)\n",
      "Collecting mapclassify\n",
      "  Downloading https://files.pythonhosted.org/packages/04/51/a969186d9670a58b4c59de969903e20698de85f9261c2032f68334b81730/mapclassify-2.0.1.tar.gz\n",
      "Requirement already satisfied: scipy>=0.11 in /anaconda3/lib/python3.7/site-packages (from mapclassify) (1.2.1)\n",
      "Requirement already satisfied: numpy>=1.3 in /anaconda3/lib/python3.7/site-packages (from mapclassify) (1.16.2)\n",
      "Requirement already satisfied: pandas in /anaconda3/lib/python3.7/site-packages (from mapclassify) (0.24.2)\n",
      "Requirement already satisfied: python-dateutil>=2.5.0 in /anaconda3/lib/python3.7/site-packages (from pandas->mapclassify) (2.8.0)\n",
      "Requirement already satisfied: pytz>=2011k in /anaconda3/lib/python3.7/site-packages (from pandas->mapclassify) (2018.9)\n",
      "Requirement already satisfied: six>=1.5 in /anaconda3/lib/python3.7/site-packages (from python-dateutil>=2.5.0->pandas->mapclassify) (1.12.0)\n",
      "Building wheels for collected packages: mapclassify\n",
      "  Building wheel for mapclassify (setup.py) ... \u001b[?25ldone\n",
      "\u001b[?25h  Stored in directory: /Users/s2park2018/Library/Caches/pip/wheels/64/65/1d/1de1fa57972cd410029dd8d07ffcca424e81598d427684096e\n",
      "Successfully built mapclassify\n",
      "Installing collected packages: mapclassify\n",
      "Successfully installed mapclassify-2.0.1\n"
     ]
    }
   ],
   "source": [
    "#!pip install descartes\n",
    "#!pip install geopandas\n",
    "#!pip install shapely\n",
    "#!pip install mapclassify"
   ]
  },
  {
   "cell_type": "code",
   "execution_count": 2,
   "metadata": {},
   "outputs": [],
   "source": [
    "import zipfile\n",
    "\n",
    "import pandas as pd\n",
    "\n",
    "import matplotlib.pyplot as plt\n",
    "%matplotlib inline\n",
    "\n",
    "import mapclassify\n",
    "import descartes\n",
    "import geopandas as gpd\n",
    "from shapely.geometry import Point, Polygon\n",
    "\n",
    "from zipfile import ZipFile"
   ]
  },
  {
   "cell_type": "markdown",
   "metadata": {},
   "source": [
    "# DIVA-GIS\n",
    "\n",
    "[DIVA-GIS](https://www.diva-gis.org/gdata) is an excellent website for downloading free geographic (GIS) data for any country in the world. The [DIVA-GIS manual](https://www.diva-gis.org/docs/DIVA-GIS_manual_7.pdf) is worth a read as well. \n",
    "\n",
    "### As a group exercise, let's work with the USA: \n",
    "1. Use Bash to create a folder named USA in your DIGHUM101-2019 directory. \n",
    "2. Visit [DIVA-GIS](https://www.diva-gis.org/gdata) and select \"United States\" from the \"Country\" dropdown menu\n",
    "3. Select \"Administrative Areas\" from the \"Subject\" dropdown menu\n",
    "4. Click \"OK\"\n",
    "5. Click \"Download\"\n",
    "\n",
    "### Unzip the file!"
   ]
  },
  {
   "cell_type": "code",
   "execution_count": null,
   "metadata": {},
   "outputs": [],
   "source": [
    "# Define a variable for the ZipFile function that contains the path to the zip file \n",
    "# NOTE: you may have to change your file paths to match\n",
    "zf = ZipFile(\"/Users/evan.admin/Downloads/USA_adm.zip\", \"r\")\n",
    "\n",
    "# Use the extractall method with the file path where you want the extracted files to go\n",
    "zf.extractall(\"/Users/evan.admin/Desktop/DIGHUM101-2019/Week4/USA\")\n",
    "\n",
    "# Stop the process\n",
    "zf.close()"
   ]
  },
  {
   "cell_type": "markdown",
   "metadata": {},
   "source": [
    "# Reading in spatial data - Shapefile\n",
    "\n",
    "Now we can use GeoPandas' `.read_file()` method to "
   ]
  },
  {
   "cell_type": "code",
   "execution_count": null,
   "metadata": {},
   "outputs": [],
   "source": [
    "usa = gpd.read_file(\"/Users/evan.admin/Desktop/DIGHUM101-2019/Week3/USA/USA_adm0.shp\")\n",
    "print(type(usa))\n",
    "usa"
   ]
  },
  {
   "cell_type": "code",
   "execution_count": null,
   "metadata": {},
   "outputs": [],
   "source": [
    "usa.plot()"
   ]
  },
  {
   "cell_type": "markdown",
   "metadata": {},
   "source": [
    "# Get state boundaries\n",
    "\n",
    "Now we need to get the state boundaries to overlay on this map. Visit this URL to download them: https://raw.githubusercontent.com/dlab-geo/geopandas_intro/master/data/us_states.zip\n",
    "\n",
    "Copy this zip file into the directory path specified below:"
   ]
  },
  {
   "cell_type": "code",
   "execution_count": null,
   "metadata": {},
   "outputs": [],
   "source": [
    "state_boundaries = gpd.read_file(\"zip:///Users/evan.admin/Desktop/DIGHUM101-2019/Week4/data/us_states.zip\")\n",
    "state_boundaries.head()"
   ]
  },
  {
   "cell_type": "markdown",
   "metadata": {},
   "source": [
    "# Plot whatever is there!"
   ]
  },
  {
   "cell_type": "code",
   "execution_count": null,
   "metadata": {},
   "outputs": [],
   "source": [
    "state_boundaries.plot(linewidth=0.25, edgecolor='white', facecolor='green',figsize=(14,10))"
   ]
  },
  {
   "cell_type": "markdown",
   "metadata": {},
   "source": [
    "# Crop\n",
    "\n",
    "You can also plot by spatial subsetting. Here you can pass in two slices that will zoom in to the specified x and y coordinates:"
   ]
  },
  {
   "cell_type": "code",
   "execution_count": null,
   "metadata": {},
   "outputs": [],
   "source": [
    "state_boundaries.cx[-150:-50, 20:60].plot(linewidth=0.25, edgecolor='white', facecolor='green',figsize=(14,10))"
   ]
  },
  {
   "cell_type": "markdown",
   "metadata": {},
   "source": [
    "# Individual state polygons\n",
    "\n",
    "To get individual state boundaries, visit https://www.census.gov/geographies/mapping-files/2018/geo/carto-boundary-file.html\n",
    "\n",
    "and download the \"cb_2018_us_county_500k.zip\" file.\n",
    "\n",
    "What is California's STATEFP code? "
   ]
  },
  {
   "cell_type": "code",
   "execution_count": null,
   "metadata": {},
   "outputs": [],
   "source": [
    "counties = gpd.read_file(\"zip:///Users/evan.admin/Downloads/cb_2018_us_county_500k.zip\")\n",
    "counties.head()"
   ]
  },
  {
   "cell_type": "code",
   "execution_count": null,
   "metadata": {},
   "outputs": [],
   "source": [
    "# Just california...\n",
    "cal_counties = counties[counties[\"STATEFP\"] == \"06\"]\n",
    "cal_counties.head()"
   ]
  },
  {
   "cell_type": "markdown",
   "metadata": {},
   "source": [
    "# Plot just California"
   ]
  },
  {
   "cell_type": "code",
   "execution_count": null,
   "metadata": {},
   "outputs": [],
   "source": [
    "state_boundaries.head()\n",
    "california = state_boundaries[state_boundaries[\"ABBREV\"] == \"CA\"]\n",
    "california.plot()"
   ]
  },
  {
   "cell_type": "markdown",
   "metadata": {},
   "source": [
    "# American Fact Finder\n",
    "Go to [American Fact Finder](https://factfinder.census.gov/faces/nav/jsf/pages/index.xhtml) to get information about these counties. \n",
    "\n",
    "1. Type California In the \"Community Facts\" search bar and click \"OK\"\n",
    "2. Under 2010 Census, click \"Compare Counties for Population, Housing, Area, and Density\"\n",
    "3. Click \"Download\"\n",
    "4. Click \"Use the data\" and click \"OK\"\n",
    "5. Click \"Download\"\n",
    "\n",
    "Can you think of any additional preprocessing step we will have to perform here? "
   ]
  },
  {
   "cell_type": "code",
   "execution_count": null,
   "metadata": {},
   "outputs": [],
   "source": [
    "pop = pd.read_csv(\"/Users/evan.admin/Downloads/DEC_10_SF1_GCTPH1.ST05/DEC_10_SF1_GCTPH1.ST05_with_ann.csv\")\n",
    "pop.head()"
   ]
  },
  {
   "cell_type": "markdown",
   "metadata": {},
   "source": [
    "# Share GEOID column\n",
    "\n",
    "Now we want to make sure we have a column in common to merge our two DataFrames: `cal_counties` and `pop`"
   ]
  },
  {
   "cell_type": "code",
   "execution_count": null,
   "metadata": {},
   "outputs": [],
   "source": [
    "pop[\"GEOID\"] = [\"0\" + str(x) for x in pop[\"Target Geo Id2\"]]\n",
    "pop.head()"
   ]
  },
  {
   "cell_type": "markdown",
   "metadata": {},
   "source": [
    "# Do the join!\n",
    "\n",
    "Now we can combine `cal_counties` and `pop`. "
   ]
  },
  {
   "cell_type": "code",
   "execution_count": null,
   "metadata": {},
   "outputs": [],
   "source": [
    "# cal_counties\n",
    "# pop\n",
    "geo_pop = cal_counties.merge(pop, on = \"GEOID\", how = \"left\")\n",
    "geo_pop.head()"
   ]
  },
  {
   "cell_type": "markdown",
   "metadata": {},
   "source": [
    "# Plot!"
   ]
  },
  {
   "cell_type": "code",
   "execution_count": null,
   "metadata": {},
   "outputs": [],
   "source": [
    "geo_pop.plot(\n",
    "    # Which column to visualize?\n",
    "    column = \"Population\", \n",
    "    \n",
    "    # Which color palette to use?\n",
    "    cmap = \"Reds\", \n",
    "    \n",
    "    # What color should be used to separate the counties?\n",
    "    edgecolor = \"black\", \n",
    "    \n",
    "    # Width of the county boudary lines\n",
    "    linewidth = 0.1, \n",
    "    \n",
    "    # What do the different classifier schemes do? Copy/paste the link to plugh in others\n",
    "    # https://pysal.readthedocs.io/en/v1.11.0/library/esda/mapclassify.html\n",
    "    scheme = \"quantiles\");"
   ]
  },
  {
   "cell_type": "markdown",
   "metadata": {},
   "source": [
    "# How to bin the data? \n",
    "\n",
    "How you bin the data determines the map! This is how people lie with maps. "
   ]
  },
  {
   "cell_type": "markdown",
   "metadata": {},
   "source": [
    "# Challenge 1\n",
    "\n",
    "Visit the [Pysal webpage](https://github.com/pysal/mapclassify) and pass in different schemes. Do any of these show that California is sparsely populated? "
   ]
  },
  {
   "cell_type": "code",
   "execution_count": null,
   "metadata": {
    "scrolled": true
   },
   "outputs": [],
   "source": [
    "geo_pop.plot(column = \"Population\", cmap = \"Greens\", edgecolor = \"black\", linewidth = 0.1, \n",
    "             scheme = \"Natural_Breaks\", legend = True, figsize = (14,8))\n",
    "# \"Natural_Breaks\" maximizes between class variation while minimizing within class variation"
   ]
  },
  {
   "cell_type": "markdown",
   "metadata": {},
   "source": [
    "# Challenge 2\n",
    "\n",
    "Repeat the steps in this notebook to do the same thing for a second state of your choosing. "
   ]
  },
  {
   "cell_type": "markdown",
   "metadata": {},
   "source": [
    "# Challenge 3\n",
    "\n",
    "Repeat the steps in this notebook to do the same thing for a third state of your choosing. "
   ]
  },
  {
   "cell_type": "markdown",
   "metadata": {},
   "source": [
    "# Challenge 4\n",
    "\n",
    "You can also use the factfinder website to create a map. [Click this link](https://factfinder.census.gov/faces/tableservices/jsf/pages/productview.xhtml?src=bkmk) to try it out! "
   ]
  },
  {
   "cell_type": "markdown",
   "metadata": {},
   "source": [
    "# Going Further: \n",
    "\n",
    "https://github.com/dlab-berkeley/Geospatial-Fundamentals-in-Python"
   ]
  },
  {
   "cell_type": "code",
   "execution_count": null,
   "metadata": {},
   "outputs": [],
   "source": []
  }
 ],
 "metadata": {
  "kernelspec": {
   "display_name": "Python 3",
   "language": "python",
   "name": "python3"
  },
  "language_info": {
   "codemirror_mode": {
    "name": "ipython",
    "version": 3
   },
   "file_extension": ".py",
   "mimetype": "text/x-python",
   "name": "python",
   "nbconvert_exporter": "python",
   "pygments_lexer": "ipython3",
   "version": "3.7.3"
  }
 },
 "nbformat": 4,
 "nbformat_minor": 2
}
